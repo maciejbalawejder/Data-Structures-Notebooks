{
 "cells": [
  {
   "cell_type": "code",
   "execution_count": 102,
   "metadata": {},
   "outputs": [],
   "source": [
    "class Node: \n",
    "    def __init__(self, data):\n",
    "        self.data = data \n",
    "        self.refrence = None\n",
    "    \n",
    "class LinkedList:\n",
    "    def __init__(self):\n",
    "        self.head = None\n",
    "        self.num_of_elements = 0\n",
    "    \n",
    "    def insert(self,data):\n",
    "        new_node = Node(data)\n",
    "        if self.head == None:\n",
    "            self.head = new_node\n",
    "        else: \n",
    "            new_node.refrence = self.head \n",
    "            self.head = new_node\n",
    "        self.num_of_elements+=1 \n",
    "        \n",
    "    def delete(self, data):\n",
    "        current = self.head\n",
    "        previous = None \n",
    "        while data != current.data and current != None:                \n",
    "            previous = current\n",
    "            current = current.refrence\n",
    "        \n",
    "        if current == None: return print(\"There is no element such as {}\".format(data))\n",
    "        else:\n",
    "            previous.refrence = current.refrence\n",
    "            self.num_of_elements-=1\n",
    "            \n",
    "    def end_insert(self,data):\n",
    "        new_node = Node(data)\n",
    "        current = self.head\n",
    "        \n",
    "        while current.refrence != None: \n",
    "            current = current.refrence\n",
    "            \n",
    "        current.refrence = new_node\n",
    "        self.num_of_elements+=1\n",
    "        \n",
    "    def println(self): \n",
    "        current = self.head\n",
    "        while current.refrence != None: \n",
    "            print(\"[\",current.data,\"]\", end = \"->\")\n",
    "            current = current.refrence\n",
    "        print(\"[\",current.data,\"]\")"
   ]
  },
  {
   "cell_type": "code",
   "execution_count": 103,
   "metadata": {},
   "outputs": [
    {
     "name": "stdout",
     "output_type": "stream",
     "text": [
      "[ 48 ]->[ 66 ]->[ 42 ]->[ 34 ]->[ 97 ]->[ 17 ]->[ 10 ]->[ 13 ]->[ 40 ]->[ 25 ]->[ 25 ]\n"
     ]
    }
   ],
   "source": [
    "import numpy as np \n",
    "lista = LinkedList() \n",
    "[lista.insert(np.random.randint(0,100)) for i in range(10)]\n",
    "lista.end_insert(25)\n",
    "lista.println()"
   ]
  }
 ],
 "metadata": {
  "kernelspec": {
   "display_name": "Python 3",
   "language": "python",
   "name": "python3"
  },
  "language_info": {
   "codemirror_mode": {
    "name": "ipython",
    "version": 3
   },
   "file_extension": ".py",
   "mimetype": "text/x-python",
   "name": "python",
   "nbconvert_exporter": "python",
   "pygments_lexer": "ipython3",
   "version": "3.8.5"
  }
 },
 "nbformat": 4,
 "nbformat_minor": 4
}
