{
 "cells": [
  {
   "cell_type": "markdown",
   "id": "similar-religious",
   "metadata": {},
   "source": [
    "# HASH TABLE"
   ]
  },
  {
   "cell_type": "code",
   "execution_count": 61,
   "id": "electronic-greece",
   "metadata": {},
   "outputs": [],
   "source": [
    "class hashtable:\n",
    "    def __init__(self,size):\n",
    "        self.size = size \n",
    "        self.keys = [None]*self.size\n",
    "        self.values = [None]*self.size\n",
    "    \n",
    "    def hash_function(self, key):\n",
    "        return sum([ord(i) for i in key])\n",
    "    \n",
    "    def insert(self, key, value):\n",
    "        index = 0 \n",
    "        key = self.hash_function(key)\n",
    "        while self.keys[index] != None:\n",
    "            # UPDATE VALUE \n",
    "            if self.keys[index] == key: self.keys[index] = value\n",
    "            index = (index + 1) % self.size\n",
    "        self.keys[index] = key\n",
    "        self.values[index] = value\n",
    "    \n",
    "    def get_item(self,key): \n",
    "        k = self.hash_function(key)\n",
    "        index = 0\n",
    "        while self.keys[index] != k:\n",
    "            index = (index + 1) % self.size\n",
    "            if index == (self.size - 1):\n",
    "                print('No such an item')\n",
    "                break\n",
    "        else:\n",
    "            print(key, self.values[index])"
   ]
  },
  {
   "cell_type": "code",
   "execution_count": 62,
   "id": "grave-reliance",
   "metadata": {},
   "outputs": [
    {
     "name": "stdout",
     "output_type": "stream",
     "text": [
      "Tokar 57\n"
     ]
    }
   ],
   "source": [
    "Hash = hashtable(5)\n",
    "Hash.insert('Adam', 37)\n",
    "Hash.insert('Ruko', 47)\n",
    "Hash.insert('Tokar', 57)\n",
    "Hash.get_item('Tokar')"
   ]
  }
 ],
 "metadata": {
  "kernelspec": {
   "display_name": "Python 3",
   "language": "python",
   "name": "python3"
  },
  "language_info": {
   "codemirror_mode": {
    "name": "ipython",
    "version": 3
   },
   "file_extension": ".py",
   "mimetype": "text/x-python",
   "name": "python",
   "nbconvert_exporter": "python",
   "pygments_lexer": "ipython3",
   "version": "3.8.0"
  }
 },
 "nbformat": 4,
 "nbformat_minor": 5
}
