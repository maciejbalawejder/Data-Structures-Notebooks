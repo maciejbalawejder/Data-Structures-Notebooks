{
 "cells": [
  {
   "cell_type": "markdown",
   "id": "wrapped-arkansas",
   "metadata": {},
   "source": [
    "# HEAPS"
   ]
  },
  {
   "cell_type": "code",
   "execution_count": 109,
   "id": "curious-foster",
   "metadata": {},
   "outputs": [],
   "source": [
    "capacity = 10\n",
    "\n",
    "class Heap: \n",
    "    def __init__(self):\n",
    "        self.size = 0 \n",
    "        self.heap = [0] * capacity\n",
    "    \n",
    "    def insert(self, item):\n",
    "        if self.size <= capacity: \n",
    "            self.heap[self.size] = item\n",
    "            self.size+=1\n",
    "            print('Size : {}, Element : {}'.format(self.size, item))\n",
    "        else:\n",
    "            print(\"Heap is full\")\n",
    "        self.validation(self.size-1)\n",
    "        \n",
    "    def validation(self, index):\n",
    "        i = (index - 1) // 2\n",
    "        \n",
    "        if self.heap[i] < self.heap[index] and i >= 0 :\n",
    "                print('Switch {} -> {} for {} -> {}'.format(self.heap[i], i,self.heap[index], index))\n",
    "                self.heap[i],self.heap[index] = self.heap[index], self.heap[i]\n",
    "                return self.validation(i)\n",
    "            \n",
    "    def max_val(self):\n",
    "        return self.heap[0]\n",
    "    \n",
    "    def del_max(self):\n",
    "        max_val = self.max_val()\n",
    "        \n",
    "        self.heap[0], self.heap[self.size-1] = self.heap[self.size-1], self.heap[0]\n",
    "    \n",
    "        self.size = self.size - 1\n",
    "        \n",
    "        '''WE GOTTA CHECK IF THE MAX VALUE IS A ROOT NODE'''\n",
    "        \n",
    "        self.check_root(0)\n",
    "        \n",
    "        return max_val\n",
    "        \n",
    "    def check_root(self,index):\n",
    "        left = 2*index + 1         \n",
    "        right = 2*index + 2 \n",
    "        largest_index = index\n",
    "        \n",
    "        if self.heap[largest_index] < self.heap[left] and left < self.size:  \n",
    "            largest_index = left\n",
    "            \n",
    "        if self.heap[largest_index] < self.heap[right] and right < self.size: \n",
    "            largest_index = right\n",
    "        \n",
    "        if largest_index != index: \n",
    "            self.heap[index], self.heap[largest_index] = self.heap[largest_index], self.heap[index]\n",
    "            self.check_root(largest_index)\n",
    "            \n",
    "    def println(self):\n",
    "        for i in range(self.size):\n",
    "            print(self.heap[i])\n",
    "    \n",
    "    def heap_sort(self):\n",
    "        for _ in range(self.size):\n",
    "            max_val = self.del_max()\n",
    "            print(max_val)\n",
    "\n",
    "        \n",
    "        \n",
    "        "
   ]
  },
  {
   "cell_type": "code",
   "execution_count": 110,
   "id": "forty-fairy",
   "metadata": {
    "scrolled": false
   },
   "outputs": [
    {
     "name": "stdout",
     "output_type": "stream",
     "text": [
      "Size : 1, Element : 92\n",
      "Size : 2, Element : 78\n",
      "Size : 3, Element : 23\n",
      "Size : 4, Element : 2\n",
      "Size : 5, Element : 5\n",
      "Size : 6, Element : 12\n",
      "Size : 7, Element : 21\n",
      "Size : 8, Element : 98\n",
      "Switch 2 -> 3 for 98 -> 7\n",
      "Switch 78 -> 1 for 98 -> 3\n",
      "Switch 92 -> 0 for 98 -> 1\n",
      "98\n",
      "92\n",
      "78\n",
      "23\n",
      "21\n",
      "12\n",
      "5\n",
      "2\n"
     ]
    }
   ],
   "source": [
    "heap = Heap()\n",
    "arr = [92,78,23,2,5,12,21,98]\n",
    "[heap.insert(i) for i in arr]\n",
    "heap.heap_sort()"
   ]
  }
 ],
 "metadata": {
  "kernelspec": {
   "display_name": "Python 3",
   "language": "python",
   "name": "python3"
  },
  "language_info": {
   "codemirror_mode": {
    "name": "ipython",
    "version": 3
   },
   "file_extension": ".py",
   "mimetype": "text/x-python",
   "name": "python",
   "nbconvert_exporter": "python",
   "pygments_lexer": "ipython3",
   "version": "3.8.0"
  }
 },
 "nbformat": 4,
 "nbformat_minor": 5
}
